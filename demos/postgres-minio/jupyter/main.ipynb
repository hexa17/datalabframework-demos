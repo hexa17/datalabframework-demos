{
 "cells": [
  {
   "cell_type": "code",
   "execution_count": 1,
   "metadata": {},
   "outputs": [],
   "source": [
    "import datalabframework as dlf"
   ]
  },
  {
   "cell_type": "code",
   "execution_count": 2,
   "metadata": {},
   "outputs": [
    {
     "name": "stdout",
     "output_type": "stream",
     "text": [
      "PYSPARK_SUBMIT_ARGS:  --packages org.postgresql:postgresql:42.2.5 pyspark-shell\n"
     ]
    }
   ],
   "source": [
    "engine = dlf.engines.get('spark')\n",
    "spark = engine.context()"
   ]
  },
  {
   "cell_type": "markdown",
   "metadata": {},
   "source": [
    "### Postgres"
   ]
  },
  {
   "cell_type": "code",
   "execution_count": 3,
   "metadata": {},
   "outputs": [
    {
     "name": "stdout",
     "output_type": "stream",
     "text": [
      "jdbc:postgresql://postgres:5432/pagila\n",
      "+--------+----------+------------+-------------------+\n",
      "|actor_id|first_name|   last_name|        last_update|\n",
      "+--------+----------+------------+-------------------+\n",
      "|       1|  PENELOPE|     GUINESS|2017-02-15 09:34:33|\n",
      "|       2|      NICK|    WAHLBERG|2017-02-15 09:34:33|\n",
      "|       3|        ED|       CHASE|2017-02-15 09:34:33|\n",
      "|       4|  JENNIFER|       DAVIS|2017-02-15 09:34:33|\n",
      "|       5|    JOHNNY|LOLLOBRIGIDA|2017-02-15 09:34:33|\n",
      "|       6|     BETTE|   NICHOLSON|2017-02-15 09:34:33|\n",
      "|       7|     GRACE|      MOSTEL|2017-02-15 09:34:33|\n",
      "|       8|   MATTHEW|   JOHANSSON|2017-02-15 09:34:33|\n",
      "|       9|       JOE|       SWANK|2017-02-15 09:34:33|\n",
      "|      10| CHRISTIAN|       GABLE|2017-02-15 09:34:33|\n",
      "|      11|      ZERO|        CAGE|2017-02-15 09:34:33|\n",
      "|      12|      KARL|       BERRY|2017-02-15 09:34:33|\n",
      "|      13|       UMA|        WOOD|2017-02-15 09:34:33|\n",
      "|      14|    VIVIEN|      BERGEN|2017-02-15 09:34:33|\n",
      "|      15|      CUBA|     OLIVIER|2017-02-15 09:34:33|\n",
      "|      16|      FRED|     COSTNER|2017-02-15 09:34:33|\n",
      "|      17|     HELEN|      VOIGHT|2017-02-15 09:34:33|\n",
      "|      18|       DAN|        TORN|2017-02-15 09:34:33|\n",
      "|      19|       BOB|     FAWCETT|2017-02-15 09:34:33|\n",
      "|      20|   LUCILLE|       TRACY|2017-02-15 09:34:33|\n",
      "+--------+----------+------------+-------------------+\n",
      "only showing top 20 rows\n",
      "\n"
     ]
    }
   ],
   "source": [
    "df_src = engine.read('source')\n",
    "df_src.show()"
   ]
  },
  {
   "cell_type": "markdown",
   "metadata": {},
   "source": [
    "### Minio"
   ]
  },
  {
   "cell_type": "code",
   "execution_count": 5,
   "metadata": {},
   "outputs": [
    {
     "name": "stdout",
     "output_type": "stream",
     "text": [
      "s3a://ingest/extract/pagila.actor\n"
     ]
    }
   ],
   "source": [
    "engine.write(df_src, 'target', mode='overwrite')"
   ]
  },
  {
   "cell_type": "code",
   "execution_count": 6,
   "metadata": {},
   "outputs": [
    {
     "name": "stdout",
     "output_type": "stream",
     "text": [
      "s3a://ingest/extract/pagila.actor\n",
      "+--------+----------+------------+-------------------+\n",
      "|actor_id|first_name|   last_name|        last_update|\n",
      "+--------+----------+------------+-------------------+\n",
      "|       1|  PENELOPE|     GUINESS|2017-02-15 09:34:33|\n",
      "|       2|      NICK|    WAHLBERG|2017-02-15 09:34:33|\n",
      "|       3|        ED|       CHASE|2017-02-15 09:34:33|\n",
      "|       4|  JENNIFER|       DAVIS|2017-02-15 09:34:33|\n",
      "|       5|    JOHNNY|LOLLOBRIGIDA|2017-02-15 09:34:33|\n",
      "|       6|     BETTE|   NICHOLSON|2017-02-15 09:34:33|\n",
      "|       7|     GRACE|      MOSTEL|2017-02-15 09:34:33|\n",
      "|       8|   MATTHEW|   JOHANSSON|2017-02-15 09:34:33|\n",
      "|       9|       JOE|       SWANK|2017-02-15 09:34:33|\n",
      "|      10| CHRISTIAN|       GABLE|2017-02-15 09:34:33|\n",
      "|      11|      ZERO|        CAGE|2017-02-15 09:34:33|\n",
      "|      12|      KARL|       BERRY|2017-02-15 09:34:33|\n",
      "|      13|       UMA|        WOOD|2017-02-15 09:34:33|\n",
      "|      14|    VIVIEN|      BERGEN|2017-02-15 09:34:33|\n",
      "|      15|      CUBA|     OLIVIER|2017-02-15 09:34:33|\n",
      "|      16|      FRED|     COSTNER|2017-02-15 09:34:33|\n",
      "|      17|     HELEN|      VOIGHT|2017-02-15 09:34:33|\n",
      "|      18|       DAN|        TORN|2017-02-15 09:34:33|\n",
      "|      19|       BOB|     FAWCETT|2017-02-15 09:34:33|\n",
      "|      20|   LUCILLE|       TRACY|2017-02-15 09:34:33|\n",
      "+--------+----------+------------+-------------------+\n",
      "only showing top 20 rows\n",
      "\n"
     ]
    }
   ],
   "source": [
    "# read back from hdfs in parquet format\n",
    "df_trg = engine.read('target', 'ingest')\n",
    "df_trg.show()"
   ]
  },
  {
   "cell_type": "code",
   "execution_count": 7,
   "metadata": {},
   "outputs": [],
   "source": [
    "assert(df_src.subtract(df_trg).count()==0)"
   ]
  },
  {
   "cell_type": "code",
   "execution_count": null,
   "metadata": {},
   "outputs": [],
   "source": []
  }
 ],
 "metadata": {
  "kernelspec": {
   "display_name": "Python 3",
   "language": "python",
   "name": "python3"
  },
  "language_info": {
   "codemirror_mode": {
    "name": "ipython",
    "version": 3
   },
   "file_extension": ".py",
   "mimetype": "text/x-python",
   "name": "python",
   "nbconvert_exporter": "python",
   "pygments_lexer": "ipython3",
   "version": "3.6.3"
  }
 },
 "nbformat": 4,
 "nbformat_minor": 2
}
